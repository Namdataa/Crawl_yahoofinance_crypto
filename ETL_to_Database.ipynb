{
  "nbformat": 4,
  "nbformat_minor": 0,
  "metadata": {
    "colab": {
      "provenance": []
    },
    "kernelspec": {
      "name": "python3",
      "display_name": "Python 3"
    },
    "language_info": {
      "name": "python"
    }
  },
  "cells": [
    {
      "cell_type": "markdown",
      "source": [
        "# **Cài đặt và gọi các thư viện**"
      ],
      "metadata": {
        "id": "AfJk24aaWu9j"
      }
    },
    {
      "cell_type": "code",
      "execution_count": null,
      "metadata": {
        "id": "UJmAZXHCWKjV"
      },
      "outputs": [],
      "source": [
        "# Import necessary libraries\n",
        "import numpy as np\n",
        "import pandas as pd\n",
        "import urllib\n",
        "!pip install pyodbc #Cài đặt thư viện pyodbc\n",
        "!pip install sqlalchemy #Cài đặt thư viện sqlalchemy\n",
        "import pyodbc\n",
        "import sqlalchemy\n",
        "from sqlalchemy import create_engine, text, Table, Column, String, Float, Integer, DateTime, MetaData"
      ]
    },
    {
      "cell_type": "markdown",
      "source": [
        "# **Tiến hành ETL to database**"
      ],
      "metadata": {
        "id": "6cymGjlyW1Cq"
      }
    },
    {
      "cell_type": "code",
      "source": [
        "class DatabaseManager:\n",
        "    def __init__(self, server, database, username, password,df,table_name):\n",
        "        \"\"\"\n",
        "        Khởi tạo đối tượng DatabaseManager.\n",
        "\n",
        "        Parameters:\n",
        "            server (str): Tên server SQL Server.\n",
        "            database (str): Tên database.\n",
        "            username (str): Tên tài khoản đăng nhập.\n",
        "            password (str): Mật khẩu tài khoản.\n",
        "        \"\"\"\n",
        "        self.server = server\n",
        "        self.database = database\n",
        "        self.username = username\n",
        "        self.password = password\n",
        "        self.df = df\n",
        "        self.table_name = table_name\n",
        "        self.engine = None\n",
        "\n",
        "    def connect_engine(self):\n",
        "        \"\"\"\n",
        "        Tạo kết nối engine cho SQLAlchemy.\n",
        "        \"\"\"\n",
        "        try:\n",
        "            params = urllib.parse.quote_plus(\n",
        "                f\"DRIVER={{ODBC Driver 17 for SQL Server}};\"\n",
        "                f\"SERVER={self.server};\"\n",
        "                f\"DATABASE={self.database};\"\n",
        "                f\"UID={self.username};\"\n",
        "                f\"PWD={self.password};\"\n",
        "                f\"Trusted_Connection=no;\"\n",
        "            )\n",
        "            self.engine = create_engine(f\"mssql+pyodbc:///?odbc_connect={params}\")\n",
        "            print(\"Kết nối SQLAlchemy engine thành công.\")\n",
        "        except Exception as e:\n",
        "            print(f\"Không thể kết nối SQLAlchemy engine. Lỗi: {e}\")\n",
        "\n",
        "    def create_database_if_not_exists(self):\n",
        "        \"\"\"\n",
        "        Kiểm tra và tạo database nếu chưa tồn tại.\n",
        "        \"\"\"\n",
        "        conn_str = (\n",
        "            f\"DRIVER={{ODBC Driver 17 for SQL Server}};\"\n",
        "            f\"SERVER={self.server};\"\n",
        "            f\"UID={self.username};\"\n",
        "            f\"PWD={self.password};\"\n",
        "            f\"Trusted_Connection=no;\"\n",
        "        )\n",
        "        try:\n",
        "            with pyodbc.connect(conn_str, autocommit=True) as conn:\n",
        "                cursor = conn.cursor()\n",
        "                cursor.execute(f\"IF NOT EXISTS(SELECT * FROM sys.databases WHERE name='{self.database}') CREATE DATABASE {self.database}\")\n",
        "                print(f\"Đã kiểm tra và tạo database '{self.database}' nếu chưa tồn tại.\")\n",
        "        except Exception as e:\n",
        "            print(f\"Lỗi khi tạo database: {e}\")\n",
        "    def prepare_unicode_data(self):\n",
        "        \"\"\"Chuyển đổi dữ liệu chuỗi thành Unicode (N'') để hỗ trợ tiếng Việt.\"\"\"\n",
        "        def to_unicode(value):\n",
        "            if isinstance(value, str):  # Chỉ áp dụng với chuỗi\n",
        "                return \"N'\" + value.replace(\"'\", \"''\") + \"'\"\n",
        "            return value\n",
        "        self.df = self.df.applymap(to_unicode)\n",
        "    def load_data(self):\n",
        "        # Tên bảng\n",
        "        table_name = self.table_name\n",
        "\n",
        "        # Xác định độ dài tối đa cho mỗi cột (dựa trên độ dài tối đa của dữ liệu trong mỗi cột)\n",
        "        dtype_dict = {}\n",
        "        for col in self.df.columns:\n",
        "            # Tính độ dài tối đa của từng cột\n",
        "            max_length = self.df[col].astype(str).map(len).max()  # Tính chiều dài tối đa của mỗi cột\n",
        "            dtype_dict[col] = sqlalchemy.types.NVARCHAR(length=max_length)\n",
        "\n",
        "        # Ghi DataFrame vào bảng trong cơ sở dữ liệu\n",
        "        with self.engine.connect() as connection:\n",
        "            # Tạo bảng và chèn dữ liệu\n",
        "            self.df.to_sql(\n",
        "                table_name,\n",
        "                con=connection,\n",
        "                if_exists='replace',  # Xóa bảng cũ nếu tồn tại\n",
        "                index=False,\n",
        "                dtype=dtype_dict  # Định nghĩa kiểu dữ liệu cho mỗi cột với chiều dài tối đa\n",
        "            )\n",
        "            print(f\"Dữ liệu đã được lưu thành công vào bảng '{table_name}'.\")\n",
        "def extract_data():\n",
        "    df= pd.read_excel('vietnamwork.xlsx')\n",
        "    return df\n",
        "def check_data(df):\n",
        "    print(df.head())\n",
        "    print(df.info())\n",
        "    print(df.duplicated().sum())\n",
        "    print(df.isnull().sum())\n",
        "def transform_data(df):\n",
        "    df=df.drop('index_', axis=1)\n",
        "    df = df[df['Địa điểm'].notna()].reset_index(drop=True)\n",
        "    df = df.fillna(value=\"Không hiển thị\")\n",
        "    df[\"Ngành nghề\"] = df[\"Ngành nghề\"].str.replace(\">\", \",\").str.rstrip()\n",
        "    df[\"Từ khóa\"] = df[\"Từ khóa\"].str.replace(\"\\n\", \",\").str.rstrip()\n",
        "    df['tag'] = df[['Kỹ năng', 'Ngành nghề', 'Từ khóa', 'Công ty', 'Lĩnh vực']].apply(\n",
        "    lambda row: ', '.join(dict.fromkeys([item.strip() for item in ','.join(row.dropna()).split(',') if item.strip()])),axis=1)\n",
        "    df=df.drop('Từ khóa', axis=1)\n",
        "    return df\n",
        "df=extract_data()\n",
        "check_data(df)\n",
        "data=transform_data(df)\n",
        "if __name__ == \"__main__\":\n",
        "    server = r'DESKTOP-Q6B5CSD\\NAMNH' # Thay thế lại server của bạn\n",
        "    database = 'recommend_job' #Tên Database của bạn\n",
        "    username = 'sa' #Tài khoản của bạn\n",
        "    password = 'Nam@15092003' #Mật khẩu của bạn\n",
        "    db_manager = DatabaseManager(server, database, username, password,data,'job')\n",
        "    db_manager.create_database_if_not_exists()\n",
        "    db_manager.connect_engine()\n",
        "    db_manager.load_data()\n",
        "\n"
      ],
      "metadata": {
        "id": "Mt50hSFQWMHZ"
      },
      "execution_count": null,
      "outputs": []
    }
  ]
}